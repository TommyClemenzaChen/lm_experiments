{
 "cells": [
  {
   "cell_type": "code",
   "execution_count": 1,
   "metadata": {},
   "outputs": [
    {
     "name": "stdout",
     "output_type": "stream",
     "text": [
      "Requirement already satisfied: openai in c:\\users\\bobth\\anaconda3\\lib\\site-packages (1.30.1)"
     ]
    },
    {
     "name": "stderr",
     "output_type": "stream",
     "text": [
      "WARNING: Ignoring invalid distribution -umpy (c:\\users\\bobth\\anaconda3\\lib\\site-packages)\n",
      "WARNING: Ignoring invalid distribution -orch (c:\\users\\bobth\\anaconda3\\lib\\site-packages)\n",
      "WARNING: Ignoring invalid distribution -umpy (c:\\users\\bobth\\anaconda3\\lib\\site-packages)\n",
      "WARNING: Ignoring invalid distribution -orch (c:\\users\\bobth\\anaconda3\\lib\\site-packages)\n",
      "WARNING: Ignoring invalid distribution -umpy (c:\\users\\bobth\\anaconda3\\lib\\site-packages)\n",
      "WARNING: Ignoring invalid distribution -orch (c:\\users\\bobth\\anaconda3\\lib\\site-packages)\n",
      "WARNING: Ignoring invalid distribution -umpy (c:\\users\\bobth\\anaconda3\\lib\\site-packages)\n",
      "WARNING: Ignoring invalid distribution -orch (c:\\users\\bobth\\anaconda3\\lib\\site-packages)\n",
      "WARNING: Ignoring invalid distribution -umpy (c:\\users\\bobth\\anaconda3\\lib\\site-packages)\n",
      "WARNING: Ignoring invalid distribution -orch (c:\\users\\bobth\\anaconda3\\lib\\site-packages)\n",
      "WARNING: Ignoring invalid distribution -umpy (c:\\users\\bobth\\anaconda3\\lib\\site-packages)\n",
      "WARNING: Ignoring invalid distribution -orch (c:\\users\\bobth\\anaconda3\\lib\\site-packages)\n"
     ]
    },
    {
     "name": "stdout",
     "output_type": "stream",
     "text": [
      "\n",
      "Requirement already satisfied: typing-extensions<5,>=4.7 in c:\\users\\bobth\\anaconda3\\lib\\site-packages (from openai) (4.11.0)\n",
      "Requirement already satisfied: tqdm>4 in c:\\users\\bobth\\anaconda3\\lib\\site-packages (from openai) (4.66.4)\n",
      "Requirement already satisfied: sniffio in c:\\users\\bobth\\anaconda3\\lib\\site-packages (from openai) (1.2.0)\n",
      "Requirement already satisfied: pydantic<3,>=1.9.0 in c:\\users\\bobth\\anaconda3\\lib\\site-packages (from openai) (2.9.2)\n",
      "Requirement already satisfied: distro<2,>=1.7.0 in c:\\users\\bobth\\anaconda3\\lib\\site-packages (from openai) (1.9.0)\n",
      "Requirement already satisfied: anyio<5,>=3.5.0 in c:\\users\\bobth\\anaconda3\\lib\\site-packages (from openai) (3.7.1)\n",
      "Requirement already satisfied: httpx<1,>=0.23.0 in c:\\users\\bobth\\anaconda3\\lib\\site-packages (from openai) (0.27.0)\n",
      "Requirement already satisfied: exceptiongroup in c:\\users\\bobth\\anaconda3\\lib\\site-packages (from anyio<5,>=3.5.0->openai) (1.2.2)\n",
      "Requirement already satisfied: idna>=2.8 in c:\\users\\bobth\\anaconda3\\lib\\site-packages (from anyio<5,>=3.5.0->openai) (3.3)\n",
      "Requirement already satisfied: httpcore==1.* in c:\\users\\bobth\\anaconda3\\lib\\site-packages (from httpx<1,>=0.23.0->openai) (1.0.5)\n",
      "Requirement already satisfied: certifi in c:\\users\\bobth\\anaconda3\\lib\\site-packages (from httpx<1,>=0.23.0->openai) (2024.6.2)\n",
      "Requirement already satisfied: h11<0.15,>=0.13 in c:\\users\\bobth\\anaconda3\\lib\\site-packages (from httpcore==1.*->httpx<1,>=0.23.0->openai) (0.14.0)\n",
      "Requirement already satisfied: pydantic-core==2.23.4 in c:\\users\\bobth\\anaconda3\\lib\\site-packages (from pydantic<3,>=1.9.0->openai) (2.23.4)\n",
      "Requirement already satisfied: annotated-types>=0.6.0 in c:\\users\\bobth\\anaconda3\\lib\\site-packages (from pydantic<3,>=1.9.0->openai) (0.6.0)\n",
      "Requirement already satisfied: colorama in c:\\users\\bobth\\anaconda3\\lib\\site-packages (from tqdm>4->openai) (0.4.6)\n"
     ]
    }
   ],
   "source": [
    "!pip install openai\n"
   ]
  },
  {
   "cell_type": "code",
   "execution_count": null,
   "metadata": {},
   "outputs": [],
   "source": [
    "import os\n",
    "from openai import OpenAI\n",
    "\n",
    "api_key = os.getenv(\"OPENAI_API_KEY\")\n",
    "#print(f\"API Key:{api_key}\")\n",
    "openai_client = OpenAI(\n",
    "    base_url=\"https://api.openai.com/v1\",\n",
    "    api_key=api_key#enter api key\n",
    ")"
   ]
  },
  {
   "cell_type": "code",
   "execution_count": 3,
   "metadata": {},
   "outputs": [],
   "source": [
    "import pandas as pd"
   ]
  },
  {
   "cell_type": "code",
   "execution_count": 4,
   "metadata": {},
   "outputs": [],
   "source": [
    "# get the csv file\n",
    "file_path = 'student_profiles.csv'\n",
    "\n",
    "# read the csv file\n",
    "df = pd.read_csv(file_path)"
   ]
  },
  {
   "cell_type": "code",
   "execution_count": 11,
   "metadata": {},
   "outputs": [
    {
     "data": {
      "text/html": [
       "<div>\n",
       "<style scoped>\n",
       "    .dataframe tbody tr th:only-of-type {\n",
       "        vertical-align: middle;\n",
       "    }\n",
       "\n",
       "    .dataframe tbody tr th {\n",
       "        vertical-align: top;\n",
       "    }\n",
       "\n",
       "    .dataframe thead th {\n",
       "        text-align: right;\n",
       "    }\n",
       "</style>\n",
       "<table border=\"1\" class=\"dataframe\">\n",
       "  <thead>\n",
       "    <tr style=\"text-align: right;\">\n",
       "      <th></th>\n",
       "      <th>field</th>\n",
       "      <th>major</th>\n",
       "      <th>bio</th>\n",
       "    </tr>\n",
       "  </thead>\n",
       "  <tbody>\n",
       "    <tr>\n",
       "      <th>0</th>\n",
       "      <td>STEM</td>\n",
       "      <td>Computer Science</td>\n",
       "      <td>A dedicated student with expertise in object-o...</td>\n",
       "    </tr>\n",
       "    <tr>\n",
       "      <th>1</th>\n",
       "      <td>STEM</td>\n",
       "      <td>Computer Science</td>\n",
       "      <td>A dedicated and enthusiastic Computer Science ...</td>\n",
       "    </tr>\n",
       "    <tr>\n",
       "      <th>2</th>\n",
       "      <td>STEM</td>\n",
       "      <td>Computer Science</td>\n",
       "      <td>A dedicated student with a keen interest in so...</td>\n",
       "    </tr>\n",
       "    <tr>\n",
       "      <th>3</th>\n",
       "      <td>STEM</td>\n",
       "      <td>Computer Science</td>\n",
       "      <td>A dedicated student with a strong background i...</td>\n",
       "    </tr>\n",
       "    <tr>\n",
       "      <th>4</th>\n",
       "      <td>STEM</td>\n",
       "      <td>Computer Science</td>\n",
       "      <td>An aspiring computer scientist with a passion ...</td>\n",
       "    </tr>\n",
       "  </tbody>\n",
       "</table>\n",
       "</div>"
      ],
      "text/plain": [
       "  field             major                                                bio\n",
       "0  STEM  Computer Science  A dedicated student with expertise in object-o...\n",
       "1  STEM  Computer Science  A dedicated and enthusiastic Computer Science ...\n",
       "2  STEM  Computer Science  A dedicated student with a keen interest in so...\n",
       "3  STEM  Computer Science  A dedicated student with a strong background i...\n",
       "4  STEM  Computer Science  An aspiring computer scientist with a passion ..."
      ]
     },
     "execution_count": 11,
     "metadata": {},
     "output_type": "execute_result"
    }
   ],
   "source": [
    "df.head()"
   ]
  },
  {
   "cell_type": "code",
   "execution_count": 5,
   "metadata": {},
   "outputs": [],
   "source": [
    "row1 = df.iloc[0]\n"
   ]
  },
  {
   "cell_type": "code",
   "execution_count": null,
   "metadata": {},
   "outputs": [],
   "source": [
    "prompt = \"\"\"\n",
    "<|im_start|>system\n",
    "Evaluate the student profile objectively using this JSON schema:\n",
    "\n",
    "<schema>\n",
    "{{\n",
    "    \"overall_score\": \"number\",\n",
    "    \"Academics_and_research\": \"number\",\n",
    "    \"Professional_experience\": \"number\", \n",
    "    \"Leadership_and_Initiative\": \"number\",\n",
    "    \"Depth_of_experience\": \"number\",\n",
    "}}\n",
    "</schema>\n",
    "\n",
    "Scoring Guidelines:\n",
    "- Maximum typical score is 100\n",
    "- Scores above 85 are EXTREMELY rare\n",
    "- 50 represents a solid, competitive student profile\n",
    "- Scoring criteria:\n",
    "  - Be more critical and conservative\n",
    "  - Scrutinize each achievement's substantiveness\n",
    "  - Avoid grade inflation\n",
    "  - Emphasize quality over quantity\n",
    "\n",
    "Scoring Constraints:\n",
    "- Rarely award more than 85 points\n",
    "- Most students should score between 45-60\n",
    "- Exceptional achievements warrant careful consideration\n",
    "- Penalize vague or unsubstantiated claims\n",
    "<|im_end|>\n",
    "\n",
    "<|im_start|>user\n",
    "Evaluate the following {major} student profile:\n",
    "{student_profile}\n",
    "<|im_end|>\n",
    "\n",
    "<|im_start|>assistant\n",
    "\"\"\""
   ]
  },
  {
   "cell_type": "code",
   "execution_count": 19,
   "metadata": {},
   "outputs": [],
   "source": [
    "import json\n",
    "def invoke_openai(prompt, model = 'gpt-4o-mini'):\n",
    "    for i in range(3):\n",
    "        try:\n",
    "            kwargs = {\n",
    "                    \"model\": model,\n",
    "                    \"messages\": [{\"role\": \"user\", \"content\": prompt}],\n",
    "                    \"response_format\": {\"type\": \"json_object\"}\n",
    "                }\n",
    "\n",
    "            response = openai_client.chat.completions.create(**kwargs)\n",
    "            json_response = json.loads(response.choices[0].message.content)\n",
    "            return json_response\n",
    "        except Exception as e:\n",
    "            print(f\"Attempt {i + 1} failed with error: {e}\")\n",
    "            if i == 2:\n",
    "                print(\"Failed all attempts. Exiting...\")\n",
    "                return None"
   ]
  },
  {
   "cell_type": "code",
   "execution_count": 23,
   "metadata": {},
   "outputs": [],
   "source": [
    "prompt_formatted = prompt.format(major=row1['major'], student_profile=row1['bio'])\n",
    "response = invoke_openai(prompt_formatted)"
   ]
  },
  {
   "cell_type": "code",
   "execution_count": 24,
   "metadata": {},
   "outputs": [
    {
     "data": {
      "text/plain": [
       "{'overall_score': 65,\n",
       " 'Academics_and_research': 60,\n",
       " 'Professional_experience': 70,\n",
       " 'Leadership and Initiative': 65,\n",
       " 'Depth_of_experience': 65}"
      ]
     },
     "execution_count": 24,
     "metadata": {},
     "output_type": "execute_result"
    }
   ],
   "source": [
    "import json\n",
    "\n",
    "response"
   ]
  },
  {
   "cell_type": "code",
   "execution_count": 25,
   "metadata": {},
   "outputs": [
    {
     "name": "stdout",
     "output_type": "stream",
     "text": [
      "Processed 99 rows\n",
      "Processed 199 rows\n",
      "Processed 299 rows\n",
      "Processed 399 rows\n",
      "Processed 499 rows\n",
      "Processed 599 rows\n",
      "Processed 699 rows\n",
      "Processed 799 rows\n",
      "Processed 899 rows\n",
      "Processed 999 rows\n",
      "Processed 1099 rows\n",
      "Processed 1199 rows\n",
      "Processed 1299 rows\n",
      "Processed 1399 rows\n",
      "Processed 1499 rows\n",
      "Processed 1599 rows\n",
      "Processed 1699 rows\n"
     ]
    }
   ],
   "source": [
    "results = []\n",
    "for i, row in df.iterrows():\n",
    "    prompt_formatted = prompt.format(major=row['major'], student_profile=row['bio'])\n",
    "    response = invoke_openai(prompt_formatted)\n",
    "    results.append(response)\n",
    "\n",
    "    if (i + 1) % 100 == 0:\n",
    "        print(f\"Processed {i} rows\")"
   ]
  },
  {
   "cell_type": "code",
   "execution_count": 26,
   "metadata": {},
   "outputs": [],
   "source": [
    "score_df = df.copy()\n",
    "scores = pd.DataFrame(results)\n",
    "\n",
    "score_df = pd.concat([score_df, scores], axis=1)"
   ]
  },
  {
   "cell_type": "code",
   "execution_count": 27,
   "metadata": {},
   "outputs": [],
   "source": [
    "# Save the scores to a new csv file\n",
    "score_df.to_csv('student_profiles_scored.csv', index=False)"
   ]
  }
 ],
 "metadata": {
  "kernelspec": {
   "display_name": "Python 3",
   "language": "python",
   "name": "python3"
  },
  "language_info": {
   "codemirror_mode": {
    "name": "ipython",
    "version": 3
   },
   "file_extension": ".py",
   "mimetype": "text/x-python",
   "name": "python",
   "nbconvert_exporter": "python",
   "pygments_lexer": "ipython3",
   "version": "3.9.13"
  }
 },
 "nbformat": 4,
 "nbformat_minor": 2
}
